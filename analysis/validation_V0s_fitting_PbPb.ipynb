{
 "cells": [
  {
   "cell_type": "markdown",
   "metadata": {},
   "source": [
    "# Load modules and data"
   ]
  },
  {
   "cell_type": "code",
   "execution_count": null,
   "metadata": {},
   "outputs": [],
   "source": [
    "import pandas as pd\n",
    "import numpy as np\n",
    "import matplotlib.pyplot as plt\n",
    "import matplotlib\n",
    "from copy import deepcopy\n",
    "\n",
    "import subprocess\n",
    "import os.path\n",
    "from time import time\n",
    "\n",
    "import uproot \n",
    "\n",
    "from scipy.optimize import curve_fit\n",
    "\n",
    "from IPython.display import Markdown, display\n",
    "def printmd(string):\n",
    "    display(Markdown(string))"
   ]
  },
  {
   "cell_type": "code",
   "execution_count": null,
   "metadata": {},
   "outputs": [],
   "source": [
    "PERIOD = 'LHC18r'\n",
    "BRANCHES = ['runNumber', 'evtTimeStamp', 'v0.fEffMass']\n",
    "\n",
    "TIME_OFFSET = 1262307600 - 7200"
   ]
  },
  {
   "cell_type": "code",
   "execution_count": null,
   "metadata": {},
   "outputs": [],
   "source": [
    "os.listdir('data_validation_V0s/')"
   ]
  },
  {
   "cell_type": "code",
   "execution_count": null,
   "metadata": {},
   "outputs": [],
   "source": [
    "len([f for f in os.listdir('data_validation_V0s/') if PERIOD in f and f.endswith('.root')])"
   ]
  },
  {
   "cell_type": "code",
   "execution_count": null,
   "metadata": {},
   "outputs": [],
   "source": [
    "from time import time\n",
    "\n",
    "def root2df(fname):\n",
    "    try:\n",
    "        df = uproot.open(fname)['v0_mass'].pandas.df()\n",
    "        return df\n",
    "    except ValueError as e_msg:\n",
    "        print(f'ERROR in {fname} : {e_msg}')\n",
    "        return None\n",
    "\n",
    "def fname2run(fname):\n",
    "    return fname.split('_')[-1].split('.')[0]\n",
    "    \n",
    "    \n",
    "def gaus(x, amp, mu, sigma):\n",
    "    return amp * np.exp(-0.5*((x-mu)/sigma)**2)\n",
    "\n",
    "def lin(x, a, b):\n",
    "    return a*x + b\n",
    "\n",
    "def fit_func(x, amp, mu, sigma, a, b):\n",
    "    return amp * np.exp(-0.5*((x-mu)/sigma)**2) + a*x + b\n",
    "\n",
    "\n",
    "\n",
    "def make_fitting(mass_arr, \n",
    "                 period_run_chunk,\n",
    "                 is_bad,\n",
    "                 binning=(440, 540, 50), \n",
    "                 bounds_low=[0, 470, 2, -10000, -1000], \n",
    "                 bounds_high=[25000, 530, 10, 10000, 50000], \n",
    "                 peak_range=(480, 515),\n",
    "                 param_names=('amp', 'mu', 'sigma', 'a', 'b'),\n",
    "                 close_fig=False,\n",
    "                 verbose=True,\n",
    "                ):\n",
    "    period, run, chunk = period_run_chunk\n",
    "    if verbose:\n",
    "        print(f'#V0s total = {len(mass_arr)}')\n",
    "        print(f'#V0s in peak ({peak_range}) = {sum([m > peak_range[0] and m < peak_range[1] for m in mass_arr])}')\n",
    "    counts, bin_edges = np.histogram(mass_arr, bins=np.linspace(*binning));\n",
    "    bin_centers = 0.5*bin_edges[:-1] + 0.5*bin_edges[1:]\n",
    "\n",
    "    try:\n",
    "        bounds_high[0] = max(counts)*1.5+1\n",
    "        bounds_high[4] = (max(counts[:5])-min(counts[-5:]))*6*2 + max(counts[-5:])\n",
    "    except Exception as e:\n",
    "        print(e)\n",
    "\n",
    "    try:\n",
    "        popt, pcov = curve_fit(fit_func, bin_centers, counts, bounds=(bounds_low, bounds_high))\n",
    "    except RuntimeError as err:\n",
    "        print(f'ERROR in fitting: \\n\\t{err}\\n\\t -> skipping')\n",
    "        return None\n",
    "    perr = np.sqrt(np.diag(pcov))\n",
    "    bounded_params = [abs(pval-bl) < 1e-6 or abs(pval-bh) < 1e-6 for pval, bl, bh in zip(popt, bounds_low, bounds_high)]\n",
    "    is_bound = any(bounded_params)\n",
    "    if is_bound:  \n",
    "        printmd('IS **BOUND**')\n",
    "    amp, mu, sigma, a, b = popt\n",
    "    xx = np.linspace(binning[0], binning[1], 10000)\n",
    "    mean_lo, mean_hi = popt[1]-perr[1]*3, popt[1]+perr[1]*3\n",
    "\n",
    "\n",
    "    fig,ax = plt.subplots(figsize=(9,6))\n",
    "    ax.grid(color='gray', linestyle='--', linewidth=0.5, alpha=0.5)\n",
    "    ax.hist(mass_arr, bins=np.linspace(*binning), histtype='step', lw=2, label='data')\n",
    "    ax.plot(xx, fit_func(xx, *popt), '-', lw=3, c='r', label='full fit');\n",
    "    ax.plot(xx, gaus(xx, amp, mu, sigma), '--', color='cyan', label='signal fit')\n",
    "    ax.plot(xx, lin(xx, a, b), 'y--', label='bckg fit')\n",
    "    xlim = plt.xlim()\n",
    "    ylim = plt.ylim()\n",
    "    ax.vlines([mean_lo, mean_hi], 0, 0.05*ylim[1], label='$\\mu +/- 3\\sigma_{\\mu}$', lw=0.5)\n",
    "\n",
    "    ax.set_xlabel('$\\mathrm{K}^{0}_{S}$ mass [MeV]', fontsize=14);\n",
    "    ax.xaxis.set_tick_params(labelsize=14)\n",
    "    ax.yaxis.set_tick_params(labelsize=14)\n",
    "\n",
    "\n",
    "    fit_param_text = f'{period}/{run}/{chunk:03}\\n#counts={len(mass_arr)}\\n#bins={binning[2]}\\n\\nFit results:\\n'\n",
    "    for name, val, err, bounded in zip(param_names, popt, perr, bounded_params):\n",
    "        err_str = f'{err:.2g}'\n",
    "        precision = len(err_str[err_str.index('.')+1:]) if '.' in err_str else 0\n",
    "        bounded_suffix = ' <-- boundary' if bounded else '' \n",
    "        par_str = f'{name:5s} = {val:6.{precision}f} +/- {err:<6.2g} {bounded_suffix}'\n",
    "        if verbose: print(par_str)\n",
    "        fit_param_text += par_str+'\\n'\n",
    "    if is_bound: fit_param_text += '$\\\\mathbf{FITTED\\;VALUE\\;HIT\\;THE\\;PARAM\\;BOUNDARY\\;!!!}$'\n",
    "    ax.text(xlim[0]+0.02*(xlim[1]-xlim[0]), 0.98*ylim[1], fit_param_text, \n",
    "            fontdict={'family' : 'monospace'},\n",
    "            horizontalalignment='left', verticalalignment='top',)\n",
    "\n",
    "    ax.scatter(0, -100, c='r' if is_bad else 'b', s=120, label='globalWarning flag')\n",
    "    plt.legend()\n",
    "\n",
    "    ax.set_ylim(*ylim)\n",
    "    ax.set_xlim(*xlim)\n",
    "    plt.savefig(f'fits/fit_K0s_{period}_{run}_{chunk:03}_nbins{binning[2]}.png')\n",
    "    if close_fig: \n",
    "        plt.close(fig)\n",
    "        plt.close('all')\n",
    "\n",
    "    return {'period':period,\n",
    "            'run':run,\n",
    "            'chunk':chunk,\n",
    "            'nbins':binning[2],\n",
    "            'counts':len(mass_arr),\n",
    "            'amp':amp,\n",
    "            'mu':mu,\n",
    "            'sigma':sigma,\n",
    "            'a':a,\n",
    "            'b':b,\n",
    "            'amp_err':perr[0],\n",
    "            'mu_err':perr[1],\n",
    "            'sigma_err':perr[2],\n",
    "            'a_err':perr[3],\n",
    "            'b_err':perr[4],\n",
    "            'bound':is_bound,\n",
    "            'bad':is_bad\n",
    "            }\n",
    "                                 \n",
    "                                 "
   ]
  },
  {
   "cell_type": "code",
   "execution_count": null,
   "metadata": {},
   "outputs": [],
   "source": [
    "%%time \n",
    "\n",
    "matplotlib.interactive(False)\n",
    "\n",
    "\n",
    "files = [f for f in os.listdir('data_validation_V0s/') if PERIOD in f and f.endswith('.root')]\n",
    "df_full = pd.read_csv('data/trending_merged_{}_withGraphs.csv'.format(PERIOD))\n",
    "df_full = df_full[[col for col in df_full.columns if not col.startswith('gr')]]\n",
    "df_full = df_full[[col for col in df_full.columns if 'alias' not in col or 'global' in col]]\n",
    "\n",
    "for part, fname in enumerate(files[73:], 73):\n",
    "    tic = time()\n",
    "    runx = fname2run(fname) \n",
    "#     files = [f for f in os.listdir('data_validation_V0s/') if PERIOD in f and f.endswith('.root')][2:4]\n",
    "    V0 = root2df('data_validation_V0s/'+fname)\n",
    "\n",
    "    df = df_full.query('run == @runx')\n",
    "    print(len(df))\n",
    "    print(V0.shape)\n",
    "\n",
    "\n",
    "\n",
    "    result_arr = []\n",
    "    for i,row in enumerate(df[['chunkStart', 'chunkStop', 'alias_global_Warning', 'period.fString', 'run', 'chunkID']].to_numpy()):\n",
    "        lo, hi, bad, period, run, chunk = row\n",
    "        print(i, run, chunk)\n",
    "        mass_arr = V0.query(f'evtTimeStamp - @TIME_OFFSET > @lo & evtTimeStamp - @TIME_OFFSET < @hi')['v0.fEffMass']*1000\n",
    "        for nbins in [25,50,100,200,500,1000,2000]:\n",
    "            res = make_fitting(mass_arr, [period,run,chunk], bad, binning=(440, 540, nbins), close_fig=True, verbose=False)\n",
    "            if res: result_arr.append(res)\n",
    "\n",
    "\n",
    "    rdf = pd.DataFrame(result_arr)\n",
    "    rdf.to_csv(f'fit_results_{period}_part{part}.csv')\n",
    "    print(f'\\t--- exec. time for run={runx}: {time()-tic} sec')"
   ]
  },
  {
   "cell_type": "code",
   "execution_count": null,
   "metadata": {},
   "outputs": [],
   "source": [
    "# rdf.to_csv(f'fit_results_{period}.csv')"
   ]
  },
  {
   "cell_type": "markdown",
   "metadata": {},
   "source": [
    "## Fitting stability tests"
   ]
  },
  {
   "cell_type": "code",
   "execution_count": null,
   "metadata": {},
   "outputs": [],
   "source": [
    "%matplotlib inline \n",
    "\n",
    "data1 = rdf.query('nbins == 100 & bad > -1')['mu'].to_numpy()\n",
    "data2 = rdf.query('nbins == 500 & bad > -1')['mu'].to_numpy()\n",
    "mean_diff = np.mean(abs(data1-data2))\n",
    "plt.scatter(data1, data2, color='none', edgecolors='k', alpha=0.5)\n",
    "xlim = plt.xlim()\n",
    "ylim = plt.ylim()\n",
    "plt.text(xlim[0]+0.1*(xlim[1] - xlim[0]), ylim[0]+0.9*(ylim[1] - ylim[0]), f'mean abs difference = {mean_diff:.3f}')\n",
    "plt.plot(xlim, ylim)"
   ]
  },
  {
   "cell_type": "code",
   "execution_count": null,
   "metadata": {},
   "outputs": [],
   "source": [
    "nbins=50\n",
    "plt.scatter(rdf.query('nbins==@nbins')['counts'], rdf.query('nbins==@nbins')['sigma_err'], alpha=0.3, color='none', edgecolors='k', s=15)\n",
    "plt.ylim(0,0.3)\n",
    "plt.grid()"
   ]
  },
  {
   "cell_type": "markdown",
   "metadata": {},
   "source": [
    "## Fitting results analysis"
   ]
  },
  {
   "cell_type": "code",
   "execution_count": null,
   "metadata": {},
   "outputs": [],
   "source": [
    "%matplotlib inline\n",
    "tmp = rdf.query('nbins == 50')\n",
    "cond_good = 'bad < 1e-6 & counts > 4000 & mu > 495'\n",
    "cond_bad = 'bad > 1e-6 & counts > 4000 & mu > 495'\n",
    "plt.grid()\n",
    "plt.scatter(tmp.query(cond_good)['mu'], tmp.query(cond_good)['sigma'], color='b', alpha=0.3)\n",
    "plt.scatter(tmp.query(cond_bad)['mu'], tmp.query(cond_bad)['sigma'], color='r', edgecolor='k')\n"
   ]
  },
  {
   "cell_type": "code",
   "execution_count": null,
   "metadata": {},
   "outputs": [],
   "source": [
    "bins = np.linspace(tmp['counts'].min(), tmp['counts'].max(), 40)\n",
    "plt.hist(tmp.query('bad < 1e-6')['counts'], bins=bins, density=1, histtype='step', color='b');\n",
    "plt.hist(tmp.query('bad > 1e-6')['counts'], bins=bins, density=1, histtype='step', color='r');"
   ]
  }
 ],
 "metadata": {
  "kernelspec": {
   "display_name": "Python 3",
   "language": "python",
   "name": "python3"
  },
  "notify_time": "30"
 },
 "nbformat": 4,
 "nbformat_minor": 2
}
