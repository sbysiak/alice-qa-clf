{
 "cells": [
  {
   "cell_type": "code",
   "execution_count": null,
   "metadata": {},
   "outputs": [],
   "source": [
    "import pandas as pd\n",
    "import numpy as np\n",
    "import matplotlib.pyplot as plt\n",
    "from copy import deepcopy\n",
    "\n",
    "import subprocess\n",
    "import os.path\n",
    "from time import time\n",
    "\n",
    "import uproot"
   ]
  },
  {
   "cell_type": "code",
   "execution_count": null,
   "metadata": {},
   "outputs": [],
   "source": [
    "PERIOD = 'LHC18f'\n",
    "MAIN_DIR = '/alice/data/2018/'\n",
    "FNAME = 'FilterEvents_Trees.root'\n",
    "BRANCHES = ['runNumber', 'evtTimeStamp', 'v0.fEffMass']\n",
    "\n",
    "TIME_OFFSET = 1262307600 - 7200"
   ]
  },
  {
   "cell_type": "markdown",
   "metadata": {},
   "source": [
    "# IN ROOT"
   ]
  },
  {
   "cell_type": "code",
   "execution_count": null,
   "metadata": {},
   "outputs": [],
   "source": [
    "os.listdir('data_validation_V0s/')"
   ]
  },
  {
   "cell_type": "code",
   "execution_count": null,
   "metadata": {},
   "outputs": [],
   "source": [
    "%%time \n",
    "\n",
    "def root2df(fname):\n",
    "    return uproot.open(fname)['v0_mass'].pandas.df()\n",
    "\n",
    "V0s = [root2df('data_validation_V0s/'+f) for f in os.listdir('data_validation_V0s/') if PERIOD in f]\n",
    "print(len(V0s))"
   ]
  },
  {
   "cell_type": "code",
   "execution_count": null,
   "metadata": {},
   "outputs": [],
   "source": [
    "V0 = pd.concat(V0s)\n",
    "del V0s\n",
    "V0.describe()"
   ]
  },
  {
   "cell_type": "code",
   "execution_count": null,
   "metadata": {},
   "outputs": [],
   "source": [
    "df = pd.read_csv('data/trending_merged_{}_withGraphs.csv'.format(PERIOD))\n",
    "# v0 = pd.read_csv('data_validation_V0s/validation_V0s_LHC18p_000294529.csv')\n",
    "# df = df.query('run == 294529')\n",
    "print(len(df))\n",
    "df.head()"
   ]
  },
  {
   "cell_type": "code",
   "execution_count": null,
   "metadata": {},
   "outputs": [],
   "source": [
    "sorted(list(set(df['run'])))"
   ]
  },
  {
   "cell_type": "code",
   "execution_count": null,
   "metadata": {},
   "outputs": [],
   "source": [
    "runx = 287977\n",
    "print('min:', V0.query('abs(runNumber - @runx) < 1e-6')['evtTimeStamp'].min() - TIME_OFFSET)\n",
    "print('max:', V0.query('abs(runNumber - @runx) < 1e-6')['evtTimeStamp'].max() - TIME_OFFSET)\n",
    "print()\n",
    "print('min chunkStart', df.query('abs(run - @runx) < 1e-6')['chunkStart'].min())\n",
    "print('max chunkStop', df.query('abs(run - @runx) < 1e-6')['chunkStop'].max())"
   ]
  },
  {
   "cell_type": "code",
   "execution_count": null,
   "metadata": {},
   "outputs": [],
   "source": [
    "mini = df.query('abs(run - @runx) < 1e-6')['chunkStart'].min()\n",
    "maxi = df.query('abs(run - @runx) < 1e-6')['chunkStop'].max()\n",
    "fig = plt.figure(figsize=(20,5))\n",
    "plt.hist(V0.query('abs(runNumber - @runx) < 1e-6')['evtTimeStamp'] - TIME_OFFSET, bins=50, histtype='step', density=1);\n",
    "plt.vlines(x=[mini,maxi], ymin=0,ymax=plt.ylim()[1])"
   ]
  },
  {
   "cell_type": "code",
   "execution_count": null,
   "metadata": {},
   "outputs": [],
   "source": [
    "plt.figure(figsize=(250,4))\n",
    "plt.hist(V0['evtTimeStamp'].to_numpy()-TIME_OFFSET, bins=500, density=1, histtype='step');\n",
    "ymax = plt.ylim()[1] \n",
    "for start, stop in df[['chunkStart', 'chunkStop']].to_numpy():\n",
    "    plt.hlines(ymax - (np.random.rand())*0.1*ymax, xmin=start, xmax=stop)"
   ]
  },
  {
   "cell_type": "code",
   "execution_count": null,
   "metadata": {},
   "outputs": [],
   "source": [
    "for runx in sorted(list(set(df['run']))):\n",
    "    chunk_min =  df.query('run == @runx')['chunkStart'].min()\n",
    "    chunk_max = df.query('run == @runx')['chunkStop'].max()\n",
    "    fname = 'data_validation_V0s/validation_V0s_{}_000{}.csv'.format(PERIOD,runx)\n",
    "    if not os.path.isfile(fname):\n",
    "        continue\n",
    "    v0 = pd.read_csv(fname)['evtTimeStamp'] - TIME_OFFSET\n",
    "    ts_min = min(v0)\n",
    "    ts_max = max(v0)\n",
    "    print('{run}: chunks: {chunk_min} - {chunk_max}\\t timeStamps: {ts_min} - {ts_max}'.format(run=runx, chunk_min=chunk_min, chunk_max=chunk_max, ts_min=ts_min, ts_max=ts_max))"
   ]
  },
  {
   "cell_type": "code",
   "execution_count": null,
   "metadata": {},
   "outputs": [],
   "source": [
    "V0.shape"
   ]
  },
  {
   "cell_type": "code",
   "execution_count": null,
   "metadata": {},
   "outputs": [],
   "source": [
    "vals =  df['chunkMean'].tolist()+ (V0['evtTimeStamp']-TIME_OFFSET).tolist()\n",
    "bins = np.linspace(min(vals), max(vals), 150)\n",
    "plt.figure(figsize=(15,5))\n",
    "plt.hist(df['chunkMean'], histtype='step', bins=bins, color='b', density=1);\n",
    "plt.hist(V0['evtTimeStamp'] - TIME_OFFSET, histtype='step', bins=bins, color='orange', density=1);"
   ]
  },
  {
   "cell_type": "code",
   "execution_count": null,
   "metadata": {},
   "outputs": [],
   "source": [
    "%%time\n",
    "\n",
    "hist_lst = []\n",
    "bad_lst = []\n",
    "mean_lst = []\n",
    "std_lst = []\n",
    "num_lst = []\n",
    "for i,row in enumerate(df[['chunkStart', 'chunkStop', 'alias_global_Warning']].to_numpy()):\n",
    "    lo, hi, bad = row\n",
    "    mass_arr = V0.query('evtTimeStamp - @TIME_OFFSET > {lo} & evtTimeStamp - @TIME_OFFSET < {hi}'.format(lo=lo,hi=hi, TIME_OFFSET=TIME_OFFSET))['v0.fEffMass']\n",
    "    flag = '\\t\\t\\t<<----------' if bad else '' \n",
    "\n",
    "    mass_arr_peak = []\n",
    "    mmin, mmax = 0.475, 0.52\n",
    "    for m in mass_arr:\n",
    "        if m > mmin and m < mmax: mass_arr_peak.append(m)\n",
    "\n",
    "    if len(mass_arr_peak) > 0:\n",
    "        bad_lst.append(bad)\n",
    "        mean_lst.append(np.mean(mass_arr_peak))\n",
    "        std_lst.append(np.std(mass_arr_peak))\n",
    "        num_lst.append(len(mass_arr_peak))\n",
    "        \n",
    "    print('{:3d}: n = {:<8d} {:.4f} +/- {:.4f} {}'.format(i,len(mass_arr_peak), np.mean(mass_arr_peak), np.std(mass_arr_peak), flag))"
   ]
  },
  {
   "cell_type": "code",
   "execution_count": null,
   "metadata": {},
   "outputs": [],
   "source": [
    "fig,ax = plt.subplots(figsize=(8,6))\n",
    "for bad in [0,1]:\n",
    "    x = [m for m,b in zip(mean_lst, bad_lst) if b == bad]\n",
    "    y = [s for s,b in zip(std_lst , bad_lst) if b == bad]\n",
    "    c = 'r' if bad else 'b'\n",
    "    alpha = 0.8 if bad else 0.2\n",
    "    s = 60 if bad else 30\n",
    "    ax.scatter(x,y, color=c, s=s, edgecolors='k', alpha=alpha)\n",
    "    \n",
    "\n",
    "ax.set_xlim(0.497, 0.499);\n",
    "ax.set_ylim(0.008, 0.010);\n",
    "\n",
    "ax.set_xlabel('mass aver. [MeV]')\n",
    "ax.set_ylabel('mass RMS [MeV]')\n",
    "# plt.savefig(f'graphics/V0_results/V0_valid_{PERIOD}.png')"
   ]
  }
 ],
 "metadata": {
  "kernelspec": {
   "display_name": "Python 3",
   "language": "python",
   "name": "python3"
  }
 },
 "nbformat": 4,
 "nbformat_minor": 2
}
