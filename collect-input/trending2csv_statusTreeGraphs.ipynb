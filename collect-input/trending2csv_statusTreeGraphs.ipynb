{
 "cells": [
  {
   "cell_type": "markdown",
   "metadata": {},
   "source": [
    "**in order to have ROOT available, run:**\n",
    "1. inside alienv: \\$> alisoft\n",
    "2. with rootInteractive conda env: \\$> conda activate rootInteractive\n",
    "3. with py2: \\$> python2 -m IPython notebook &"
   ]
  },
  {
   "cell_type": "code",
   "execution_count": null,
   "metadata": {},
   "outputs": [],
   "source": [
    "import ROOT\n",
    "import uproot \n",
    "import root_numpy\n",
    "import root_pandas\n",
    "import pandas as pd\n",
    "import numpy as np"
   ]
  },
  {
   "cell_type": "code",
   "execution_count": null,
   "metadata": {},
   "outputs": [],
   "source": [
    "fname='../analysis/data/trending_merged_LHC18r_withStatusTree.root'"
   ]
  },
  {
   "cell_type": "markdown",
   "metadata": {},
   "source": [
    "## uproot"
   ]
  },
  {
   "cell_type": "code",
   "execution_count": null,
   "metadata": {},
   "outputs": [],
   "source": [
    "f = uproot.open(fname)\n",
    "print f.keys()\n",
    "tpcQA = f.get('tpcQA')"
   ]
  },
  {
   "cell_type": "code",
   "execution_count": null,
   "metadata": {},
   "outputs": [],
   "source": [
    "#dir(tpcQA[name].array()[0])\n",
    "# tpcQA.allkeys()\n",
    "# dir(tpcQA)\n",
    "tpcQA['chunkRMS'].array()"
   ]
  },
  {
   "cell_type": "code",
   "execution_count": null,
   "metadata": {},
   "outputs": [],
   "source": [
    "def graph2df(graph_arr, name):\n",
    "    npoints = graph_arr[0].npoints\n",
    "    if name.endswith('.'): name = name.replace('.', '')\n",
    "    col_names = [name+'_X_'+str(i) for i in range(npoints)] + [name+'_Y_'+str(i) for i in range(npoints)]\n",
    "    data = [g.xvalues.tolist() + g.yvalues.tolist() for g in graph_arr]\n",
    "    df = pd.DataFrame(data, columns=col_names)\n",
    "    return df\n",
    "\n",
    "name = 'grNclSectorPosA.'\n",
    "graph2df(tpcQA[name].array(), name);"
   ]
  },
  {
   "cell_type": "markdown",
   "metadata": {},
   "source": [
    "### simple leaves"
   ]
  },
  {
   "cell_type": "code",
   "execution_count": null,
   "metadata": {},
   "outputs": [],
   "source": [
    "%%time \n",
    "\n",
    "df_numeric = tpcQA.pandas.df(branches=[c for c in tpcQA.allkeys() if '.' not in c or 'fString' in c])"
   ]
  },
  {
   "cell_type": "markdown",
   "metadata": {},
   "source": [
    "### graphs"
   ]
  },
  {
   "cell_type": "code",
   "execution_count": null,
   "metadata": {},
   "outputs": [],
   "source": [
    "%%time\n",
    "\n",
    "graph_dfs = []\n",
    "for c in [c for c in tpcQA.keys() if '.' in c]:\n",
    "    if tpcQA.get(c).keys(): \n",
    "        print c\n",
    "        continue\n",
    "    if 'Graph' not in str(tpcQA.get(c).array()[0]): continue\n",
    "    print c, \n",
    "    next_df = graph2df(tpcQA[c].array(), c)\n",
    "    print tpcQA[c].array()[0].npoints\n",
    "    graph_dfs.append(next_df)"
   ]
  },
  {
   "cell_type": "code",
   "execution_count": null,
   "metadata": {},
   "outputs": [],
   "source": [
    "%%time\n",
    "df_graphs = pd.concat(graph_dfs, axis=1)"
   ]
  },
  {
   "cell_type": "code",
   "execution_count": null,
   "metadata": {},
   "outputs": [],
   "source": [
    "print([c for c in df_graphs.columns if 'period' in c])"
   ]
  },
  {
   "cell_type": "code",
   "execution_count": null,
   "metadata": {},
   "outputs": [],
   "source": [
    "df_graphs.columns"
   ]
  },
  {
   "cell_type": "markdown",
   "metadata": {},
   "source": [
    "### aliases\n",
    "\n",
    "friend \"Tstatus\" has to be removed, otherwise some flags from statusTree are assigned per run instead of per chunk - it happens due to presence of some flags in the friend tree which is checked first"
   ]
  },
  {
   "cell_type": "code",
   "execution_count": null,
   "metadata": {},
   "outputs": [],
   "source": [
    "%%time\n",
    "\n",
    "froot = ROOT.TFile.Open(fname)\n",
    "tpcQA_root = froot.Get('tpcQA')\n",
    "tpcQA_root.RemoveFriend(tpcQA_root.GetFriend('Tstatus'))\n",
    "\n",
    "aliases_cols = []\n",
    "aliases_names = []\n",
    "for c in tpcQA.aliases.keys():\n",
    "    if c.endswith('Min') or c.endswith('Max') or c.endswith('Mean'): continue\n",
    "    next_col = root_numpy.tree2array(tpcQA_root, c)    \n",
    "    print c\n",
    "    if isinstance(next_col[0], np.ndarray): next_col = [el[0] for el in next_col]\n",
    "    aliases_cols.append(next_col)\n",
    "    aliases_names.append('alias_'+c)\n",
    "    \n",
    "df_aliases = pd.DataFrame(np.array(aliases_cols).T, columns=aliases_names)"
   ]
  },
  {
   "cell_type": "code",
   "execution_count": null,
   "metadata": {},
   "outputs": [],
   "source": [
    "df_aliases.describe()"
   ]
  },
  {
   "cell_type": "markdown",
   "metadata": {},
   "source": [
    "### merge all"
   ]
  },
  {
   "cell_type": "code",
   "execution_count": null,
   "metadata": {},
   "outputs": [],
   "source": [
    "%%time\n",
    "df_merged = pd.concat([df_numeric, df_aliases, df_graphs], axis=1)\n",
    "# df_merged.describe()"
   ]
  },
  {
   "cell_type": "code",
   "execution_count": null,
   "metadata": {},
   "outputs": [],
   "source": [
    "df_merged[['period.fString', 'run']]"
   ]
  },
  {
   "cell_type": "markdown",
   "metadata": {},
   "source": [
    "### add interactionRate"
   ]
  },
  {
   "cell_type": "code",
   "execution_count": null,
   "metadata": {},
   "outputs": [],
   "source": [
    "fname_evs = fname.replace('trending', 'trending_EVS').replace('_withStatusTree.root', '.root')\n",
    "trending_evs = uproot.open(fname_evs).get('trending')\n",
    "df_irate = trending_evs.pandas.df(branches=['interactionRate'])\n",
    "df_irate.index = trending_evs.pandas.df(branches=['run'])['run']\n",
    "df_irate = df_irate[~df_irate.index.duplicated(keep='first')]"
   ]
  },
  {
   "cell_type": "code",
   "execution_count": null,
   "metadata": {},
   "outputs": [],
   "source": [
    "df_irate.head()"
   ]
  },
  {
   "cell_type": "code",
   "execution_count": null,
   "metadata": {},
   "outputs": [],
   "source": [
    "def row2irate(row):\n",
    "    try:\n",
    "        return df_irate.loc[row['run']]\n",
    "    except KeyError:\n",
    "        print('interactionRate not found for run:', row[\"run\"])\n",
    "        return -1\n",
    "\n",
    "df_merged['interactionRate'] = df_merged.apply(row2irate, axis=1)\n",
    "# df_merged['run']\n",
    "# df_irate.loc[df_merged.loc[1]['run']]"
   ]
  },
  {
   "cell_type": "code",
   "execution_count": null,
   "metadata": {},
   "outputs": [],
   "source": [
    "%%time\n",
    "print df_merged.shape\n",
    "\n",
    "periods = df_merged['period.fString'].value_counts().index.tolist()\n",
    "counts = df_merged['period.fString'].value_counts().values.tolist()\n",
    "if len(periods) > 1:\n",
    "    print '\\nERROR - there is more than one period within data!!!\\n\\tthey are: {}\\n'.format(zip(periods, counts))\n",
    "else:\n",
    "    df_merged.to_csv(fname.replace('_withStatusTree.root', '_withGraphs.csv'))"
   ]
  },
  {
   "cell_type": "markdown",
   "metadata": {},
   "source": [
    "## Dirty"
   ]
  },
  {
   "cell_type": "code",
   "execution_count": null,
   "metadata": {},
   "outputs": [],
   "source": [
    "for xrun in list(set(df_merged['run'].tolist())):\n",
    "#     print(f'\\n *** {xrun} ***')\n",
    "    aver = np.mean(df_merged.query('run == @xrun')['alias_global_Warning'])\n",
    "    if aver > 0 and aver < 1: suffix = '\\t<---------'\n",
    "    else: suffix = ''\n",
    "    print '\\n {} -- {} {}'.format(xrun, aver, suffix)"
   ]
  },
  {
   "cell_type": "markdown",
   "metadata": {},
   "source": [
    "## root_numpy"
   ]
  },
  {
   "cell_type": "code",
   "execution_count": null,
   "metadata": {},
   "outputs": [],
   "source": [
    "rn_tpcQA = root_numpy.root2array(fname, 'tpcQA', )"
   ]
  },
  {
   "cell_type": "code",
   "execution_count": null,
   "metadata": {},
   "outputs": [],
   "source": [
    "import ROOT\n",
    "import root_numpy\n"
   ]
  },
  {
   "cell_type": "code",
   "execution_count": null,
   "metadata": {},
   "outputs": [],
   "source": [
    "tpcQA_root.GetListOfAliases()"
   ]
  },
  {
   "cell_type": "markdown",
   "metadata": {},
   "source": [
    "## root_pandas"
   ]
  },
  {
   "cell_type": "code",
   "execution_count": null,
   "metadata": {},
   "outputs": [],
   "source": [
    "root_pandas.read_root(fname, key='tpcQA', columns=['chunkID', 'chunkMedian'], flatten='grNclSectorPosA.')"
   ]
  },
  {
   "cell_type": "code",
   "execution_count": null,
   "metadata": {},
   "outputs": [],
   "source": [
    "root_pandas.read_root?"
   ]
  },
  {
   "cell_type": "markdown",
   "metadata": {},
   "source": [
    "## RootInteractive"
   ]
  },
  {
   "cell_type": "code",
   "execution_count": null,
   "metadata": {},
   "outputs": [],
   "source": []
  },
  {
   "cell_type": "markdown",
   "metadata": {},
   "source": [
    "## pyROOT"
   ]
  },
  {
   "cell_type": "code",
   "execution_count": null,
   "metadata": {},
   "outputs": [],
   "source": [
    "pyr_f = ROOT.TFile.Open(fname)\n",
    "pyr_tpcQA = pyr_f.Get('tpcQA')\n",
    "pyr_tpcQA.Draw('chunkMedian')"
   ]
  }
 ],
 "metadata": {
  "kernelspec": {
   "display_name": "Python 2",
   "language": "python",
   "name": "python2"
  }
 },
 "nbformat": 4,
 "nbformat_minor": 2
}
